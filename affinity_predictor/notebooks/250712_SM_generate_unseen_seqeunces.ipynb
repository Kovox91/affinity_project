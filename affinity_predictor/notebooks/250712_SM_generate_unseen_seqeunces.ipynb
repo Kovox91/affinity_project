{
 "cells": [
  {
   "cell_type": "markdown",
   "id": "761d2ef1",
   "metadata": {},
   "source": [
    "## Generate data for inference\n",
    "To further test the current implementation of the model we'll need to generate seqeunces that have the same length as the data already simulated.  \n",
    "For now I'll focus on random seqeunces just to get some insight. Eventually it would make sense to focus on certain regions, compositions or similar things."
   ]
  },
  {
   "cell_type": "code",
   "execution_count": 1,
   "id": "1e94e4c8",
   "metadata": {},
   "outputs": [],
   "source": [
    "import os\n",
    "import pandas as pd\n",
    "import random\n",
    "\n",
    "os.chdir(os.path.dirname(os.getcwd()))"
   ]
  },
  {
   "cell_type": "code",
   "execution_count": 2,
   "id": "b46082bd",
   "metadata": {},
   "outputs": [
    {
     "data": {
      "text/plain": [
       "0      AAAAAAAAAAAAAAAAAAAAA\n",
       "1      GGGGGGGGGGGGGGGGGGGGG\n",
       "2      ATATATATATATATATATATA\n",
       "3      ACACACACACACACACACACA\n",
       "4      AGAGAGAGAGAGAGAGAGAGA\n",
       "               ...          \n",
       "609    ACCTGAGGTCCGTCTATTCAC\n",
       "610    GTTATGCTGTTGTTCTATAGG\n",
       "611    TGGGATCTAGTGGCTGCTGCT\n",
       "612    GGGCAGGTGATCAAATATTCA\n",
       "613    AATCGCAGACACTATGCGCCT\n",
       "Name: 0, Length: 614, dtype: object"
      ]
     },
     "execution_count": 2,
     "metadata": {},
     "output_type": "execute_result"
    }
   ],
   "source": [
    "# import existing data\n",
    "existing_seqs = pd.read_table(\"data/01_raw/dGs.dat\", sep=\" \", header=None)\n",
    "existing_seqs[0]"
   ]
  },
  {
   "cell_type": "code",
   "execution_count": 4,
   "id": "9957be1a",
   "metadata": {},
   "outputs": [
    {
     "name": "stdout",
     "output_type": "stream",
     "text": [
      "Length of the sequences is: 614.\n"
     ]
    }
   ],
   "source": [
    "print(f\"Length of the sequences is: {len(existing_seqs[0])}.\")\n"
   ]
  },
  {
   "cell_type": "code",
   "execution_count": 5,
   "id": "c77cbd84",
   "metadata": {},
   "outputs": [],
   "source": [
    "nucleotides = [\"A\", \"T\", \"G\", \"C\"]\n",
    "# generate 10_000 new sequences\n",
    "n=0\n",
    "all_seqs = existing_seqs\n",
    "while n < 10_000:\n",
    "    seq = random.choices(nucleotides, k=21)\n",
    "    seq = \"\".join(seq)\n",
    "    if seq not in all_seqs:\n",
    "        n +=1\n",
    "        all_seqs = pd.concat([all_seqs, pd.Series([seq])], ignore_index=True)\n",
    "    else:\n",
    "        pass\n",
    "    \n"
   ]
  },
  {
   "cell_type": "code",
   "execution_count": 8,
   "id": "11118879",
   "metadata": {},
   "outputs": [],
   "source": [
    "all_seqs.to_csv(\"data/01_raw/more_seqeunces.csv\",\n",
    "                sep=\" \",\n",
    "                index=False)"
   ]
  }
 ],
 "metadata": {
  "kernelspec": {
   "display_name": "atomicaenv",
   "language": "python",
   "name": "python3"
  },
  "language_info": {
   "codemirror_mode": {
    "name": "ipython",
    "version": 3
   },
   "file_extension": ".py",
   "mimetype": "text/x-python",
   "name": "python",
   "nbconvert_exporter": "python",
   "pygments_lexer": "ipython3",
   "version": "3.9.23"
  }
 },
 "nbformat": 4,
 "nbformat_minor": 5
}
