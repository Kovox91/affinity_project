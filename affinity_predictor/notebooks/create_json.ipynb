{
 "cells": [
  {
   "cell_type": "markdown",
   "id": "d0d7f6fe",
   "metadata": {},
   "source": [
    "# Create AF3 inputs\n",
    "\n",
    "To generate the needed .json files to run on AF3 server, run the following scripts"
   ]
  },
  {
   "cell_type": "code",
   "execution_count": 6,
   "id": "ba9ec86e",
   "metadata": {},
   "outputs": [
    {
     "data": {
      "text/plain": [
       "PosixPath('/home/sascha/data/Projects/affinity_project/affinity')"
      ]
     },
     "execution_count": 6,
     "metadata": {},
     "output_type": "execute_result"
    }
   ],
   "source": [
    "import json\n",
    "from pathlib import Path\n",
    "\n",
    "# Get the parent of the current working directory (../)\n",
    "parent_dir = Path.cwd().parent\n",
    "parent_dir"
   ]
  },
  {
   "cell_type": "code",
   "execution_count": 32,
   "id": "f7163f42",
   "metadata": {},
   "outputs": [],
   "source": [
    "\n",
    "# === CONFIGURATION ===\n",
    "dna_file = parent_dir / \"data\" / \"01_raw\" / \"seqs.dat\"       # Input file: one DNA sequence per line\n",
    "protein_sequence = \"DELCPVCGDKVSGYHYGLLTCESCKGFFKRTVQNNKHYTCTESQSCKIDKTQRKRCPFCRFQKCLTVGMRLEAVRADRMRGGRNKFGPMYKRDRALKQQKKA\"\n",
    "output_dir = \"af3_json_batches\"      # Output directory for JSON files\n",
    "batch_size = 30                      # Max entries per JSON file\n",
    "\n",
    "# === TEMPLATE FUNCTION ===\n",
    "def make_query(dna_seq, protein_seq):\n",
    "    return {\n",
    "        \"model\": \"alphafold3_multimer\",\n",
    "        \"queries\": [\n",
    "            {\n",
    "                \"name\": dna_seq,\n",
    "                \"sequence\": f\"{protein_seq}:{dna_seq}\",\n",
    "                \"description\": \"protein:DNA complex\"\n",
    "            }\n",
    "        ]\n",
    "    }\n",
    "\n",
    "# === DNA REVERSE COMPLEMENT ===\n",
    "def reverse_complement(seq):\n",
    "    complement = str.maketrans(\"ACGTacgt\", \"TGCAtgca\")\n",
    "    return seq.translate(complement)[::-1]\n",
    "\n",
    "def main():\n",
    "    # Load DNA sequences\n",
    "    with open(dna_file, \"r\") as f:\n",
    "        dna_seqs = [line.strip() for line in f if line.strip()]\n",
    "\n",
    "    Path(output_dir).mkdir(exist_ok=True)\n",
    "\n",
    "    batch = []\n",
    "    batch_index = 1\n",
    "\n",
    "    for i, dna_seq in enumerate(dna_seqs):\n",
    "        revcomp = reverse_complement(dna_seq)\n",
    "\n",
    "        query = {\n",
    "            \"name\": dna_seq,\n",
    "            \"modelSeeds\": [42],\n",
    "            \"sequences\": [\n",
    "                {\n",
    "                    \"proteinChain\": {\n",
    "                        \"sequence\": protein_sequence,\n",
    "                        \"count\": 1,\n",
    "                        \"maxTemplateDate\": \"2025-02-03\"\n",
    "                    }\n",
    "                    },\n",
    "                    {\n",
    "                    \"dnaSequence\": {\n",
    "                        \"sequence\": dna_seq,\n",
    "                        \"count\": 1\n",
    "                    }\n",
    "                    },\n",
    "                    {\n",
    "                    \"dnaSequence\": {\n",
    "                        \"sequence\": revcomp,\n",
    "                        \"count\": 1\n",
    "                    }\n",
    "                    },\n",
    "                    {\n",
    "                    \"ion\": {\n",
    "                        \"ion\": \"ZN\",\n",
    "                        \"count\": 2\n",
    "                    }\n",
    "                }\n",
    "            ],\n",
    "            \"dialect\": \"alphafoldserver\",\n",
    "            \"version\": 1\n",
    "        }\n",
    "\n",
    "        batch.append(query)\n",
    "\n",
    "        if len(batch) == batch_size or i == len(dna_seqs) - 1:\n",
    "            json_obj = batch\n",
    "            out_path = Path(output_dir) / f\"batch_{batch_index:03}.json\"\n",
    "            with open(out_path, \"w\") as f:\n",
    "                json.dump(json_obj, f, indent=2)\n",
    "            print(f\"✅ Wrote {len(batch)} queries to {out_path}\")\n",
    "            batch = []\n",
    "            batch_index += 1"
   ]
  },
  {
   "cell_type": "code",
   "execution_count": 33,
   "id": "6d318a68",
   "metadata": {},
   "outputs": [
    {
     "name": "stdout",
     "output_type": "stream",
     "text": [
      "✅ Wrote 30 queries to af3_json_batches/batch_001.json\n",
      "✅ Wrote 30 queries to af3_json_batches/batch_002.json\n",
      "✅ Wrote 30 queries to af3_json_batches/batch_003.json\n",
      "✅ Wrote 30 queries to af3_json_batches/batch_004.json\n",
      "✅ Wrote 30 queries to af3_json_batches/batch_005.json\n",
      "✅ Wrote 30 queries to af3_json_batches/batch_006.json\n",
      "✅ Wrote 30 queries to af3_json_batches/batch_007.json\n",
      "✅ Wrote 30 queries to af3_json_batches/batch_008.json\n",
      "✅ Wrote 30 queries to af3_json_batches/batch_009.json\n",
      "✅ Wrote 30 queries to af3_json_batches/batch_010.json\n",
      "✅ Wrote 30 queries to af3_json_batches/batch_011.json\n",
      "✅ Wrote 30 queries to af3_json_batches/batch_012.json\n",
      "✅ Wrote 30 queries to af3_json_batches/batch_013.json\n",
      "✅ Wrote 30 queries to af3_json_batches/batch_014.json\n",
      "✅ Wrote 30 queries to af3_json_batches/batch_015.json\n",
      "✅ Wrote 30 queries to af3_json_batches/batch_016.json\n",
      "✅ Wrote 30 queries to af3_json_batches/batch_017.json\n",
      "✅ Wrote 30 queries to af3_json_batches/batch_018.json\n",
      "✅ Wrote 30 queries to af3_json_batches/batch_019.json\n",
      "✅ Wrote 30 queries to af3_json_batches/batch_020.json\n",
      "✅ Wrote 30 queries to af3_json_batches/batch_021.json\n",
      "✅ Wrote 30 queries to af3_json_batches/batch_022.json\n",
      "✅ Wrote 30 queries to af3_json_batches/batch_023.json\n",
      "✅ Wrote 30 queries to af3_json_batches/batch_024.json\n",
      "✅ Wrote 30 queries to af3_json_batches/batch_025.json\n",
      "✅ Wrote 30 queries to af3_json_batches/batch_026.json\n",
      "✅ Wrote 30 queries to af3_json_batches/batch_027.json\n",
      "✅ Wrote 30 queries to af3_json_batches/batch_028.json\n",
      "✅ Wrote 30 queries to af3_json_batches/batch_029.json\n",
      "✅ Wrote 30 queries to af3_json_batches/batch_030.json\n",
      "✅ Wrote 30 queries to af3_json_batches/batch_031.json\n",
      "✅ Wrote 30 queries to af3_json_batches/batch_032.json\n",
      "✅ Wrote 30 queries to af3_json_batches/batch_033.json\n",
      "✅ Wrote 10 queries to af3_json_batches/batch_034.json\n"
     ]
    }
   ],
   "source": [
    "main()"
   ]
  },
  {
   "cell_type": "code",
   "execution_count": null,
   "id": "fe3a8163",
   "metadata": {},
   "outputs": [],
   "source": []
  }
 ],
 "metadata": {
  "kernelspec": {
   "display_name": "atomicaenv",
   "language": "python",
   "name": "python3"
  },
  "language_info": {
   "codemirror_mode": {
    "name": "ipython",
    "version": 3
   },
   "file_extension": ".py",
   "mimetype": "text/x-python",
   "name": "python",
   "nbconvert_exporter": "python",
   "pygments_lexer": "ipython3",
   "version": "3.9.22"
  }
 },
 "nbformat": 4,
 "nbformat_minor": 5
}
